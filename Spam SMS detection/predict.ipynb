{
 "cells": [
  {
   "cell_type": "code",
   "execution_count": 1,
   "id": "e94f6430",
   "metadata": {},
   "outputs": [],
   "source": [
    "# predict.ipynb\n",
    "\n",
    "import joblib\n",
    "import pandas as pd\n",
    "\n"
   ]
  },
  {
   "cell_type": "code",
   "execution_count": 2,
   "id": "8436f062",
   "metadata": {},
   "outputs": [],
   "source": [
    "\n",
    "# Load model and vectorizer\n",
    "model = joblib.load('model/spam_classifier.pkl')\n",
    "tfidf = joblib.load('model/tfidf_vectorizer.pkl')\n"
   ]
  },
  {
   "cell_type": "code",
   "execution_count": 6,
   "id": "12b7f6a8",
   "metadata": {},
   "outputs": [],
   "source": [
    "\n",
    "def predict_message(msg):\n",
    "    # Clean and vectorize\n",
    "    msg_cleaned = pd.Series(msg).fillna('').str.lower().str.replace(r'\\d+', '', regex=True)\n",
    "    msg_cleaned = msg_cleaned.str.replace(r'[\\W_]+', ' ', regex=True).str.strip()\n",
    "    msg_vector = tfidf.transform(msg_cleaned)\n",
    "    prediction = model.predict(msg_vector)[0]\n",
    "    label = 'SPAM' if prediction == 1 else 'HAM'\n",
    "    return label\n"
   ]
  },
  {
   "cell_type": "code",
   "execution_count": 7,
   "id": "6a380380",
   "metadata": {},
   "outputs": [],
   "source": [
    "\n",
    "# Example usage:\n",
    "example_messages = [\n",
    "    \"Congratulations! You've won a free ticket. Call now!\",\n",
    "    \"Are we still meeting today for lunch?\",\n",
    "    \"Win $5000 now by texting WIN to 12345!\",\n",
    "    \"I'll call you back in 10 minutes.\"\n",
    "]\n",
    "\n"
   ]
  },
  {
   "cell_type": "code",
   "execution_count": 9,
   "id": "b03df836",
   "metadata": {},
   "outputs": [
    {
     "name": "stdout",
     "output_type": "stream",
     "text": [
      "\n",
      " Message: Congratulations! You've won a free ticket. Call now!\n",
      " Prediction: SPAM\n",
      "\n",
      " Message: Are we still meeting today for lunch?\n",
      " Prediction: HAM\n",
      "\n",
      " Message: Win $5000 now by texting WIN to 12345!\n",
      " Prediction: SPAM\n",
      "\n",
      " Message: I'll call you back in 10 minutes.\n",
      " Prediction: HAM\n"
     ]
    }
   ],
   "source": [
    "for msg in example_messages:\n",
    "    print(f\"\\n Message: {msg}\\n Prediction: {predict_message(msg)}\")"
   ]
  }
 ],
 "metadata": {
  "kernelspec": {
   "display_name": "base",
   "language": "python",
   "name": "python3"
  },
  "language_info": {
   "codemirror_mode": {
    "name": "ipython",
    "version": 3
   },
   "file_extension": ".py",
   "mimetype": "text/x-python",
   "name": "python",
   "nbconvert_exporter": "python",
   "pygments_lexer": "ipython3",
   "version": "3.12.7"
  }
 },
 "nbformat": 4,
 "nbformat_minor": 5
}
