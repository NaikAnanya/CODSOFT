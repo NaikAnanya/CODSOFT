{
 "cells": [
  {
   "cell_type": "code",
   "execution_count": null,
   "id": "aeb5902a",
   "metadata": {},
   "outputs": [
    {
     "name": "stderr",
     "output_type": "stream",
     "text": [
      "[nltk_data] Downloading package stopwords to C:\\Users\\Ananya\n",
      "[nltk_data]     Naik\\AppData\\Roaming\\nltk_data...\n",
      "[nltk_data]   Package stopwords is already up-to-date!\n"
     ]
    }
   ],
   "source": [
    "# predict\n",
    "# Import Libraries\n",
    "import joblib\n",
    "import pandas as pd\n",
    "import re\n",
    "import string\n",
    "import nltk\n",
    "nltk.download('stopwords')\n",
    "from nltk.corpus import stopwords\n"
   ]
  },
  {
   "cell_type": "code",
   "execution_count": null,
   "id": "838fe518",
   "metadata": {},
   "outputs": [],
   "source": [
    "# Load Model, Vectorizer, and Label Binarizer\n",
    "model = joblib.load('D:/codsoft/Movie Genre Classification/models/genre_nb_model.pkl')\n",
    "tfidf = joblib.load('D:/codsoft/Movie Genre Classification/embeddings/tfidf_vectorizer.pkl')\n",
    "mlb = joblib.load('D:/codsoft/Movie Genre Classification/models/genre_label_binarizer.pkl')\n"
   ]
  },
  {
   "cell_type": "code",
   "execution_count": 3,
   "id": "5dbb836b",
   "metadata": {},
   "outputs": [],
   "source": [
    "\n",
    "# Text Cleaning Function\n",
    "stop_words = set(stopwords.words('english'))\n",
    "\n",
    "def clean_text(text):\n",
    "    text = text.lower()\n",
    "    text = re.sub(r\"<.*?>\", \"\", text)\n",
    "    text = re.sub(rf\"[{re.escape(string.punctuation)}]\", \"\", text)\n",
    "    text = re.sub(r\"\\d+\", \"\", text)\n",
    "    text = \" \".join([word for word in text.split() if word not in stop_words])\n",
    "    return text\n"
   ]
  },
  {
   "cell_type": "code",
   "execution_count": 25,
   "id": "96101fe9",
   "metadata": {},
   "outputs": [],
   "source": [
    "# Genre Prediction Function\n",
    "def predict_genre(plot_summary, threshold=0.2):\n",
    "    clean_plot = clean_text(plot_summary)\n",
    "    vector = tfidf.transform([clean_plot])\n",
    "    probs = model.predict_proba(vector)\n",
    "    binary_preds = (probs >= threshold).astype(int)\n",
    "    predicted_genres = mlb.inverse_transform(binary_preds)\n",
    "    return predicted_genres\n"
   ]
  },
  {
   "cell_type": "code",
   "execution_count": null,
   "id": "d494e07b",
   "metadata": {},
   "outputs": [
    {
     "name": "stdout",
     "output_type": "stream",
     "text": [
      "Predicted Genres: [('Adventure', 'Comedy', 'Drama')]\n"
     ]
    }
   ],
   "source": [
    "plot =  \"A young wizard discovers his magical powers and attends a school for sorcery.\"\n",
    "print(\"Predicted Genres:\", predict_genre(plot))\n"
   ]
  },
  {
   "cell_type": "code",
   "execution_count": 27,
   "id": "de401c2b",
   "metadata": {},
   "outputs": [
    {
     "name": "stdout",
     "output_type": "stream",
     "text": [
      "Non-zero features: 7\n"
     ]
    }
   ],
   "source": [
    "vec = tfidf.transform([clean_text(plot )])\n",
    "print(\"Non-zero features:\", vec.nnz)\n"
   ]
  },
  {
   "cell_type": "code",
   "execution_count": null,
   "id": "5b29c763",
   "metadata": {},
   "outputs": [],
   "source": []
  }
 ],
 "metadata": {
  "kernelspec": {
   "display_name": "base",
   "language": "python",
   "name": "python3"
  },
  "language_info": {
   "codemirror_mode": {
    "name": "ipython",
    "version": 3
   },
   "file_extension": ".py",
   "mimetype": "text/x-python",
   "name": "python",
   "nbconvert_exporter": "python",
   "pygments_lexer": "ipython3",
   "version": "3.12.7"
  }
 },
 "nbformat": 4,
 "nbformat_minor": 5
}
