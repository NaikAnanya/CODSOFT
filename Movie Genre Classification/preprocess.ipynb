{
 "cells": [
  {
   "cell_type": "code",
   "execution_count": null,
   "id": "8c7b93a5",
   "metadata": {},
   "outputs": [
    {
     "name": "stderr",
     "output_type": "stream",
     "text": [
      "<>:14: SyntaxWarning: invalid escape sequence '\\c'\n",
      "<>:35: SyntaxWarning: invalid escape sequence '\\c'\n",
      "<>:14: SyntaxWarning: invalid escape sequence '\\c'\n",
      "<>:35: SyntaxWarning: invalid escape sequence '\\c'\n",
      "C:\\Users\\Ananya Naik\\AppData\\Local\\Temp\\ipykernel_40212\\1069579891.py:14: SyntaxWarning: invalid escape sequence '\\c'\n",
      "  df = pd.read_csv(\"D:\\codsoft\\Movie Genre Classification\\data\\imdb_genre_dataset.csv\")\n",
      "C:\\Users\\Ananya Naik\\AppData\\Local\\Temp\\ipykernel_40212\\1069579891.py:35: SyntaxWarning: invalid escape sequence '\\c'\n",
      "  df[['clean_description', 'genre_list']].to_csv(\"D:\\codsoft\\Movie Genre Classification\\data\\preprocessed_imdb.csv\", index=False)\n",
      "[nltk_data] Downloading package stopwords to C:\\Users\\Ananya\n",
      "[nltk_data]     Naik\\AppData\\Roaming\\nltk_data...\n",
      "[nltk_data]   Package stopwords is already up-to-date!\n"
     ]
    }
   ],
   "source": [
    "# Preprocessing \n",
    "\n",
    "# Import Libraries\n",
    "import pandas as pd\n",
    "import re\n",
    "import string\n",
    "import nltk\n",
    "from nltk.corpus import stopwords\n",
    "\n",
    "nltk.download('stopwords')\n",
    "stop_words = set(stopwords.words('english'))\n",
    "\n",
    "# Load the Dataset\n",
    "df = pd.read_csv(\"D:\\codsoft\\Movie Genre Classification\\data\\imdb_genre_dataset.csv\")\n",
    "df = df[['Description', 'Genre']].dropna()\n",
    "\n",
    "#Clean Description Text\n",
    "def clean_text(text):\n",
    "    text = text.lower()\n",
    "    text = re.sub(r\"<.*?>\", \"\", text)\n",
    "    text = re.sub(rf\"[{re.escape(string.punctuation)}]\", \"\", text)\n",
    "    text = re.sub(r\"\\d+\", \"\", text)\n",
    "    text = \" \".join([word for word in text.split() if word not in stop_words])\n",
    "    return text\n",
    "\n",
    "df['clean_description'] = df['Description'].apply(clean_text)\n",
    "\n",
    "# Handle Multi-label Genres\n",
    "def split_genres(genre_str):\n",
    "    return [g.strip() for g in genre_str.split(',') if g.strip()]\n",
    "\n",
    "df['genre_list'] = df['Genre'].apply(split_genres)\n",
    "\n",
    "# Save Preprocessed Data\n",
    "df[['clean_description', 'genre_list']].to_csv(\"D:\\codsoft\\Movie Genre Classification\\data\\preprocessed_imdb.csv\", index=False)\n",
    "\n",
    "\n"
   ]
  },
  {
   "cell_type": "code",
   "execution_count": null,
   "id": "36700161",
   "metadata": {},
   "outputs": [
    {
     "data": {
      "text/html": [
       "<div>\n",
       "<style scoped>\n",
       "    .dataframe tbody tr th:only-of-type {\n",
       "        vertical-align: middle;\n",
       "    }\n",
       "\n",
       "    .dataframe tbody tr th {\n",
       "        vertical-align: top;\n",
       "    }\n",
       "\n",
       "    .dataframe thead th {\n",
       "        text-align: right;\n",
       "    }\n",
       "</style>\n",
       "<table border=\"1\" class=\"dataframe\">\n",
       "  <thead>\n",
       "    <tr style=\"text-align: right;\">\n",
       "      <th></th>\n",
       "      <th>clean_description</th>\n",
       "      <th>genre_list</th>\n",
       "    </tr>\n",
       "  </thead>\n",
       "  <tbody>\n",
       "    <tr>\n",
       "      <th>0</th>\n",
       "      <td>group intergalactic criminals forced work toge...</td>\n",
       "      <td>[Action, Adventure, Sci-Fi]</td>\n",
       "    </tr>\n",
       "    <tr>\n",
       "      <th>1</th>\n",
       "      <td>following clues origin mankind team finds stru...</td>\n",
       "      <td>[Adventure, Mystery, Sci-Fi]</td>\n",
       "    </tr>\n",
       "    <tr>\n",
       "      <th>2</th>\n",
       "      <td>three girls kidnapped man diagnosed distinct p...</td>\n",
       "      <td>[Horror, Thriller]</td>\n",
       "    </tr>\n",
       "    <tr>\n",
       "      <th>3</th>\n",
       "      <td>city humanoid animals hustling theater impresa...</td>\n",
       "      <td>[Animation, Comedy, Family]</td>\n",
       "    </tr>\n",
       "    <tr>\n",
       "      <th>4</th>\n",
       "      <td>secret government agency recruits dangerous in...</td>\n",
       "      <td>[Action, Adventure, Fantasy]</td>\n",
       "    </tr>\n",
       "  </tbody>\n",
       "</table>\n",
       "</div>"
      ],
      "text/plain": [
       "                                   clean_description  \\\n",
       "0  group intergalactic criminals forced work toge...   \n",
       "1  following clues origin mankind team finds stru...   \n",
       "2  three girls kidnapped man diagnosed distinct p...   \n",
       "3  city humanoid animals hustling theater impresa...   \n",
       "4  secret government agency recruits dangerous in...   \n",
       "\n",
       "                     genre_list  \n",
       "0   [Action, Adventure, Sci-Fi]  \n",
       "1  [Adventure, Mystery, Sci-Fi]  \n",
       "2            [Horror, Thriller]  \n",
       "3   [Animation, Comedy, Family]  \n",
       "4  [Action, Adventure, Fantasy]  "
      ]
     },
     "execution_count": 4,
     "metadata": {},
     "output_type": "execute_result"
    }
   ],
   "source": [
    "# Preview the Preprocessed Data\n",
    "df[['clean_description', 'genre_list']].head()"
   ]
  },
  {
   "cell_type": "code",
   "execution_count": null,
   "id": "76285825",
   "metadata": {},
   "outputs": [],
   "source": []
  }
 ],
 "metadata": {
  "kernelspec": {
   "display_name": "base",
   "language": "python",
   "name": "python3"
  },
  "language_info": {
   "codemirror_mode": {
    "name": "ipython",
    "version": 3
   },
   "file_extension": ".py",
   "mimetype": "text/x-python",
   "name": "python",
   "nbconvert_exporter": "python",
   "pygments_lexer": "ipython3",
   "version": "3.12.7"
  }
 },
 "nbformat": 4,
 "nbformat_minor": 5
}
